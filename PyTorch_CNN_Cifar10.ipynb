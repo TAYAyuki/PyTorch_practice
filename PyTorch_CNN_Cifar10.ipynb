{
  "nbformat": 4,
  "nbformat_minor": 0,
  "metadata": {
    "colab": {
      "name": "PyTorch_CNN_Cifar10",
      "version": "0.3.2",
      "provenance": [],
      "collapsed_sections": [],
      "include_colab_link": true
    },
    "kernelspec": {
      "name": "python3",
      "display_name": "Python 3"
    }
  },
  "cells": [
    {
      "cell_type": "markdown",
      "metadata": {
        "id": "view-in-github",
        "colab_type": "text"
      },
      "source": [
        "<a href=\"https://colab.research.google.com/github/TAYAyuki/PyTorch_practice/blob/master/PyTorch_CNN_Cifar10.ipynb\" target=\"_parent\"><img src=\"https://colab.research.google.com/assets/colab-badge.svg\" alt=\"Open In Colab\"/></a>"
      ]
    },
    {
      "cell_type": "markdown",
      "metadata": {
        "id": "H_lLfNMBRYZ_",
        "colab_type": "text"
      },
      "source": [
        "# データのロード・下処理"
      ]
    },
    {
      "cell_type": "code",
      "metadata": {
        "id": "DkGQdZ6VVVP3",
        "colab_type": "code",
        "colab": {}
      },
      "source": [
        "import torch\n",
        "import torchvision\n",
        "import torchvision.transforms as transforms"
      ],
      "execution_count": 0,
      "outputs": []
    },
    {
      "cell_type": "markdown",
      "metadata": {
        "id": "AkFZhJRtZSoK",
        "colab_type": "text"
      },
      "source": [
        "CIFAR10 : 60000 \\\n",
        "訓練 50000    テスト 10000\n",
        "\n",
        "CIFAR10(root = , train =  , download = , transform = )\n",
        "\n",
        "\n",
        "> root : データが保存されているところ\\\n",
        "train : True -> 50000データをロード , False -> 10000データをロード\\\n",
        "download : True -> rootに位置にデータ保存\\\n",
        "transform : transformに書かれている下処理をロードした後に実行してくれる\n",
        "\n",
        "\n",
        "DataLoader(train(test)set, batch_size= , shuffle= num_workers= )\n",
        "\n",
        "\n",
        "> train(test)set :  データセット\\\n",
        "batch_size : 1バッチサイズごとにいくつにサンプルをロードするか\\\n",
        "shuffle :  1エポックごとにデータがシャッフルされる\\\n",
        "num_workers : データをロードするのにいくつのサブプロセスを使用するか(デフォルトは0でメインプロセスのみを使う)\\\n",
        "sampler : 自分でサンプリングするものを決めたいとき指定する.ただしshuffleはFalseにしなければいけない"
      ]
    },
    {
      "cell_type": "code",
      "metadata": {
        "id": "oRwGY0jRVhPP",
        "colab_type": "code",
        "outputId": "360cc36b-e1db-4fad-a29d-0872aeefe688",
        "colab": {
          "base_uri": "https://localhost:8080/",
          "height": 51
        }
      },
      "source": [
        "transform = transforms.Compose(\n",
        "    [transforms.ToTensor(), #ToTensor() : テンソル型に変換\n",
        "     transforms.Normalize((0.5, 0.5, 0.5), (0.5, 0.5, 0.5))])  # Normalize(RGBの平均, 偏差)\n",
        "\n",
        "trainset = torchvision.datasets.CIFAR10(root='./data', train=True,\n",
        "                                        download=True, transform=transform)\n",
        "trainloader = torch.utils.data.DataLoader(trainset, batch_size=4,\n",
        "                                          shuffle=True, num_workers=2)\n",
        "\n",
        "testset = torchvision.datasets.CIFAR10(root='./data', train=False,\n",
        "                                       download=True, transform=transform)\n",
        "testloader = torch.utils.data.DataLoader(testset, batch_size=4,\n",
        "                                         shuffle=False, num_workers=2)\n",
        "\n",
        "classes = ('plane', 'car', 'bird', 'cat',\n",
        "           'deer', 'dog', 'frog', 'horse', 'ship', 'truck')"
      ],
      "execution_count": 16,
      "outputs": [
        {
          "output_type": "stream",
          "text": [
            "Files already downloaded and verified\n",
            "Files already downloaded and verified\n"
          ],
          "name": "stdout"
        }
      ]
    },
    {
      "cell_type": "markdown",
      "metadata": {
        "id": "NPlIItTS9piG",
        "colab_type": "text"
      },
      "source": [
        "WeightedRandomSampler(重みの配列, サンプリングする回数, replacement)\\\n",
        "replacement\\\n",
        " TRUE -> サンプリングして取り出した画像を再び戻してサンプリングする\\\n",
        " FALSE -> 取り出した画像を再び戻さずにサンプリングする\n",
        " \n",
        " np.transpose(配列, (配列の並び替えたい順序)) : (配列の並び替えたい順序)は(1,2,0)だと元の配列の1番目 2番目 0番目の順にする"
      ]
    },
    {
      "cell_type": "code",
      "metadata": {
        "id": "2WnjAbu8h73r",
        "colab_type": "code",
        "outputId": "e26a75fe-29aa-4f25-f8d3-b47522ac15ba",
        "colab": {
          "base_uri": "https://localhost:8080/",
          "height": 207
        }
      },
      "source": [
        "import numpy as np\n",
        "import matplotlib.pyplot as plt\n",
        "# 一つの画像だけ1の重みベクトルを作る．\n",
        "weights = np.zeros(10000) #1*10000の配列を0で埋める(テストデータの数10000)\n",
        "weights[3] = 1. #テストで取り出したいデータの重みを1にする. この場合3000番\n",
        "num_samples = 4 # サンプリングする回数\n",
        "\n",
        "# WeightedRandomSamplerを試す．\n",
        "my_sampler = torch.utils.data.sampler.WeightedRandomSampler(weights, num_samples, replacement=True)\n",
        "my_testloader = torch.utils.data.DataLoader(testset, batch_size=4,shuffle=False, num_workers=2, sampler=my_sampler)\n",
        "\n",
        "#1バッチ分を取り出したい時iter()で囲ってから next()で呼び出す\n",
        "my_testiter = iter(my_testloader)\n",
        "images, labels = my_testiter.next()\n",
        "\n",
        "print(\"images shape : \"+str(images.shape)+ \" <- (画像の枚数, RGB, 縦, 横)\")\n",
        "print(\"labels shape : \"+str(labels.shape))\n",
        "print(\"images の値が-1から1になっている\")\n",
        "\n",
        "# imshow関数は次に説明するけどちょっと先走って使う．\n",
        "def imshow(img):\n",
        "    img = img / 2 + 0.5     # unnormalize 2で割って範囲を-0.5から0.5にして+0.5することで0から1の範囲にしている\n",
        "    npimg = img.numpy()  #torch.Tensor型 から numpy.ndarray型に変更\n",
        "    print(\"npimg shape : \"+str(npimg.shape)+\"  <- (RGB, 縦 32 + 2(枠)*2, 横 32*4 + 2(枠)*5)\" )  \n",
        "    plt.imshow(np.transpose(npimg, (1, 2, 0))) #imshowに渡すために(縦, 横, RGB)の順に並んでいなくてはならないためindexで順序を並び替え\n",
        "    \n",
        "imshow(torchvision.utils.make_grid(images)) #複数の画像を横に並べる paddingのデフォルトが2でimagesのshapeの 画像の枚数 がなくなる"
      ],
      "execution_count": 25,
      "outputs": [
        {
          "output_type": "stream",
          "text": [
            "images shape : torch.Size([4, 3, 32, 32]) <- (画像の枚数, RGB, 縦, 横)\n",
            "labels shape : torch.Size([4])\n",
            "images の値が-1から1になっている\n",
            "npimg shape : (3, 36, 138)  <- (RGB, 縦 32 + 2(枠)*2, 横 32*4 + 2(枠)*5)\n"
          ],
          "name": "stdout"
        },
        {
          "output_type": "display_data",
          "data": {
            "image/png": "[encoded data removed]",
            "text/plain": [
              "<Figure size 432x288 with 1 Axes>"
            ]
          },
          "metadata": {
            "tags": []
          }
        }
      ]
    },
    {
      "cell_type": "code",
      "metadata": {
        "id": "ktb1sOJfV1MB",
        "colab_type": "code",
        "outputId": "51a58966-0743-445f-9caa-3d7ea9fab587",
        "colab": {
          "base_uri": "https://localhost:8080/",
          "height": 156
        }
      },
      "source": [
        "import matplotlib.pyplot as plt\n",
        "import numpy as np\n",
        "\n",
        "def imshow(img):\n",
        "    img = img / 2 + 0.5     \n",
        "    npimg = img.numpy()\n",
        "    plt.imshow(np.transpose(npimg, (1, 2, 0)))\n",
        "    plt.show()\n",
        "\n",
        "\n",
        "# 訓練データをランダムに取得\n",
        "dataiter = iter(trainloader) \n",
        "images, labels = dataiter.next()\n",
        "\n",
        "# 画像の表示\n",
        "imshow(torchvision.utils.make_grid(images))\n",
        "# ラベルの表示\n",
        "print('  '.join('%15s' % classes[labels[j]] for j in range(4)))  #15文字分の中で右寄せ"
      ],
      "execution_count": 35,
      "outputs": [
        {
          "output_type": "display_data",
          "data": {
            "image/png": "[encoded data removed]",
            "text/plain": [
              "<Figure size 432x288 with 1 Axes>"
            ]
          },
          "metadata": {
            "tags": []
          }
        },
        {
          "output_type": "stream",
          "text": [
            "            dog              car              car              cat\n"
          ],
          "name": "stdout"
        }
      ]
    },
    {
      "cell_type": "markdown",
      "metadata": {
        "id": "sK-d8SMLROra",
        "colab_type": "text"
      },
      "source": [
        "# モデル"
      ]
    },
    {
      "cell_type": "markdown",
      "metadata": {
        "id": "oCCDPbcjSYnJ",
        "colab_type": "text"
      },
      "source": [
        "Variable : torch.Tensor をwrapして勾配を格納できるようにする\\\n",
        ".data にテンソルが格納されていて、.grad に勾配が格納されている\n",
        "\n",
        "> a = torch.FloatTensor([1])\\\n",
        "a2 = Variable(a)\\\n",
        "print(type(a)) # <class 'torch.FloatTensor'>\\\n",
        "print(type(a2)) # <class 'torch.autograd.variable.Variable'>\\\n",
        "print(type(a2.data)) # <class 'torch.FloatTensor'>\\\n",
        "a.numpy() -> [1]\\\n",
        "a2.data.numpy() -> [1]\\\n",
        "a2.grad -> None\\\n",
        "a2.grad = Variable(torch.FloatTensor([100]))\\\n",
        "a2.grad -> Variable containing: 100\n"
      ]
    },
    {
      "cell_type": "code",
      "metadata": {
        "id": "FatRWL2vRHa_",
        "colab_type": "code",
        "colab": {}
      },
      "source": [
        "from torch.autograd import Variable\n",
        "import torch.nn as nn\n",
        "import torch.nn.functional as F\n",
        "\n",
        "class Net(nn.Module):\n",
        "    def __init__(self):\n",
        "        super(Net, self).__init__()\n",
        "        self.conv1 = nn.Conv2d(3, 6, 5)\n",
        "        self.pool = nn.MaxPool2d(2, 2)\n",
        "        self.conv2 = nn.Conv2d(6, 16, 5)\n",
        "        self.fc1 = nn.Linear(16 * 5 * 5, 120)\n",
        "        self.fc2 = nn.Linear(120, 84)\n",
        "        self.fc3 = nn.Linear(84, 10)\n",
        "\n",
        "    def forward(self, x):\n",
        "        x = self.pool(F.relu(self.conv1(x)))\n",
        "        x = self.pool(F.relu(self.conv2(x)))\n",
        "        x = x.view(-1, 16 * 5 * 5)\n",
        "        x = F.relu(self.fc1(x))\n",
        "        x = F.relu(self.fc2(x))\n",
        "        x = self.fc3(x)\n",
        "        return x\n",
        "\n",
        "\n",
        "net = Net()\n"
      ],
      "execution_count": 0,
      "outputs": []
    }
  ]
}